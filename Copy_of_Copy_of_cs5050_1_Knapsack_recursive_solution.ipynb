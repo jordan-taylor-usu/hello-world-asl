{
  "nbformat": 4,
  "nbformat_minor": 0,
  "metadata": {
    "colab": {
      "provenance": [],
      "collapsed_sections": [],
      "include_colab_link": true
    },
    "kernelspec": {
      "name": "python3",
      "display_name": "Python 3"
    },
    "language_info": {
      "name": "python"
    }
  },
  "cells": [
    {
      "cell_type": "markdown",
      "metadata": {
        "id": "view-in-github",
        "colab_type": "text"
      },
      "source": [
        "<a href=\"https://colab.research.google.com/github/jordestay/hello-world-asl/blob/main/Copy_of_Copy_of_cs5050_1_Knapsack_recursive_solution.ipynb\" target=\"_parent\"><img src=\"https://colab.research.google.com/assets/colab-badge.svg\" alt=\"Open In Colab\"/></a>"
      ]
    },
    {
      "cell_type": "code",
      "execution_count": null,
      "metadata": {
        "id": "KnMZdFnhb26S"
      },
      "outputs": [],
      "source": [
        "#Given a knapsack of size k and n objects each object i is of size size[i], an integer\n",
        "#Does there exist a subset of objects that exactly fit into the knapsack (ie. sum to k)?"
      ]
    },
    {
      "cell_type": "code",
      "source": [
        "#RECURSIVE SOLUTION\n",
        "#Name the function, then what are the arguments required to describe each problem instance?\n",
        "def knap(n, k, size):\n",
        "  # n objects, size of k knapsack, size is the array of sizes\n",
        "  #Bool return type\n",
        "  #What the simplest problem instances? Return their solutions directly\n",
        "  if k < 0:\n",
        "    return False\n",
        "  if k == 0:\n",
        "    return True\n",
        "  if n == 0:\n",
        "    return False\n",
        "  #generate two problems, ignore or use the object\n",
        "  return knap(n-1,k,size) or knap(n-1,k-size[n],size)"
      ],
      "metadata": {
        "id": "9Hu9n38scCao"
      },
      "execution_count": null,
      "outputs": []
    },
    {
      "cell_type": "code",
      "source": [
        "import random\n",
        "N = 25\n",
        "K = 456\n",
        "size = [random.randint(3,33) for i in range(N+1)]\n",
        "print(knap(N,K,size))"
      ],
      "metadata": {
        "colab": {
          "base_uri": "https://localhost:8080/"
        },
        "id": "2b9z94pu46p2",
        "outputId": "49d8cdc0-7cff-4ae3-b044-ece1fea76257"
      },
      "execution_count": null,
      "outputs": [
        {
          "output_type": "stream",
          "name": "stdout",
          "text": [
            "True\n"
          ]
        }
      ]
    },
    {
      "cell_type": "code",
      "source": [
        "np.zeros((3, 5), dtype=bool)"
      ],
      "metadata": {
        "id": "rjs4OJEloMeg",
        "colab": {
          "base_uri": "https://localhost:8080/"
        },
        "outputId": "4a035ad3-5623-4075-8647-fad7c3423b8f"
      },
      "execution_count": null,
      "outputs": [
        {
          "output_type": "execute_result",
          "data": {
            "text/plain": [
              "array([[False, False, False, False, False],\n",
              "       [False, False, False, False, False],\n",
              "       [False, False, False, False, False]])"
            ]
          },
          "metadata": {},
          "execution_count": 9
        }
      ]
    },
    {
      "cell_type": "code",
      "source": [
        "import numpy as np\n",
        "\n",
        "def knap_DP(N, K, size):\n",
        "  S = np.zeros((N+1, K+1), dtype=bool)\n",
        "  #base cases \n",
        "  for i in range(N+1):\n",
        "    S[i, 0] = True\n",
        "  # scan over the array, smallest to biggest calculating all the solution\n",
        "  for j in range(1,K+1):\n",
        "    for i in range(1,N+1):\n",
        "      #generate two problems, ignore or use the object\n",
        "      S[i,j] = S[i-1, j] or (S[i-1, j-size[i]] if j-size[i] >= 0 else False)\n",
        "  #return the solution\n",
        "  return S[N, K]\n",
        "\n",
        "\n",
        "\n"
      ],
      "metadata": {
        "id": "wjF_uJ5R-IUo"
      },
      "execution_count": null,
      "outputs": []
    },
    {
      "cell_type": "code",
      "source": [
        "N = 15\n",
        "K = 456\n",
        "for _ in range(100):\n",
        "  size = [random.randint(3,33) for i in range(N+1)]\n",
        "  print(str(knap(N,K,size)) + \"==\" + str(knap_DP(N,K,size)) )"
      ],
      "metadata": {
        "colab": {
          "base_uri": "https://localhost:8080/"
        },
        "id": "PJNCjzNNKPsh",
        "outputId": "b1eb99bb-6987-4e0e-c140-7cba27adbc54"
      },
      "execution_count": null,
      "outputs": [
        {
          "output_type": "stream",
          "name": "stdout",
          "text": [
            "False==False\n",
            "False==False\n",
            "False==False\n",
            "False==False\n",
            "False==False\n",
            "False==False\n",
            "False==False\n",
            "False==False\n",
            "False==False\n",
            "False==False\n",
            "False==False\n",
            "False==False\n",
            "False==False\n",
            "False==False\n",
            "False==False\n",
            "False==False\n",
            "False==False\n",
            "False==False\n",
            "False==False\n",
            "False==False\n",
            "False==False\n",
            "False==False\n",
            "False==False\n",
            "False==False\n",
            "False==False\n",
            "False==False\n",
            "False==False\n",
            "False==False\n",
            "False==False\n",
            "False==False\n",
            "False==False\n",
            "False==False\n",
            "False==False\n",
            "False==False\n",
            "False==False\n",
            "False==False\n",
            "False==False\n",
            "False==False\n",
            "False==False\n",
            "False==False\n",
            "False==False\n",
            "False==False\n",
            "False==False\n",
            "False==False\n",
            "False==False\n",
            "False==False\n",
            "False==False\n",
            "False==False\n",
            "False==False\n",
            "False==False\n",
            "False==False\n",
            "False==False\n",
            "False==False\n",
            "False==False\n",
            "False==False\n",
            "False==False\n",
            "False==False\n",
            "False==False\n",
            "False==False\n",
            "False==False\n",
            "False==False\n",
            "False==False\n",
            "False==False\n",
            "False==False\n",
            "False==False\n",
            "False==False\n",
            "False==False\n",
            "False==False\n",
            "False==False\n",
            "False==False\n",
            "False==False\n",
            "False==False\n",
            "False==False\n",
            "False==False\n",
            "False==False\n",
            "False==False\n",
            "False==False\n",
            "False==False\n",
            "False==False\n",
            "False==False\n",
            "False==False\n",
            "False==False\n",
            "False==False\n",
            "False==False\n",
            "False==False\n",
            "False==False\n",
            "False==False\n",
            "False==False\n",
            "False==False\n",
            "False==False\n",
            "False==False\n",
            "False==False\n",
            "False==False\n",
            "False==False\n",
            "False==False\n",
            "False==False\n",
            "False==False\n",
            "False==False\n",
            "False==False\n",
            "False==False\n"
          ]
        }
      ]
    }
  ]
}